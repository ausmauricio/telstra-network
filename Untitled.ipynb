{
 "cells": [
  {
   "cell_type": "markdown",
   "metadata": {},
   "source": [
    "## Telstra Network Challenge\n",
    "\n",
    "### RESUMO\n",
    "\n",
    "#### Este desafio criado pela Telstra, empresa de telecomunicações australiana tem como objetivo prever a severidade de falhas de serviço. Para isso, é fornecido datasets com informações de logs nos quais temos que prever as falhas em uma determinada localização e instante de tempo da rede.\n",
    "#### Cada linha dos datasets de treino (e teste) representam uma localização e um instante de tempo. São identificados pela coluna \"id\", sendo esta a chave para as outras bases de dados.\n",
    "#### Tais falhas são classificadas em 3 classes:\n",
    "\n",
    "1. \"0\" - nenhuma falha\n",
    "2. \"1\" - poucas falhas\n",
    "3. \"2\" - muitas falhas\n",
    "\n",
    "#### Descrição de arquivos\n",
    "\n",
    "1. train.csv - o treino\n",
    "2. test.csv - o teste\n",
    "3. event_type.csv - tipo de evento\n",
    "4. log_feature.csv - atributos de falhas \n",
    "5. resource_type.csv - tipo de recurso\n",
    "6. severity_type.csv -  tipo de severidade de mensagem de log\n",
    "\n",
    "#### Lembrando que train.csv e test.csv definem chaves para serem empregadas no restante dos arquivos. As informações de event_type.csv, log_feature.csv, resource_type.csv e severity_type.csv foram extraídas de logs reais.\n",
    "\n",
    "### ANÁLISE DO PROBLEMA\n",
    "\n",
    "#### Da descrição do problema, concluimos que o mesmo se trata de um problema de multiclasse, no caso com K = 3 classes. Portanto, o erro pode ser calculado a partir da log-loss para problemas de multiclasse:\n",
    "\n",
    "![Log loss](log-loss.png)\n",
    "\n",
    "#### Onde N é o número de linhas do set, M o número de classes (severidade da falha),  y<sub>ij</sub> = 1 se o exemplo i pertence a classe j e 0 caso não, e p<sub>ij</sub> representa a probabilidade de um exemplo i pertencer a classe j."
   ]
  },
  {
   "cell_type": "code",
   "execution_count": null,
   "metadata": {},
   "outputs": [],
   "source": []
  },
  {
   "cell_type": "code",
   "execution_count": null,
   "metadata": {},
   "outputs": [],
   "source": []
  }
 ],
 "metadata": {
  "kernelspec": {
   "display_name": "Python 3",
   "language": "python",
   "name": "python3"
  },
  "language_info": {
   "codemirror_mode": {
    "name": "ipython",
    "version": 3
   },
   "file_extension": ".py",
   "mimetype": "text/x-python",
   "name": "python",
   "nbconvert_exporter": "python",
   "pygments_lexer": "ipython3",
   "version": "3.6.4"
  }
 },
 "nbformat": 4,
 "nbformat_minor": 2
}
